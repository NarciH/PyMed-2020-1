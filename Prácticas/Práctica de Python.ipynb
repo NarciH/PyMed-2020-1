{
 "cells": [
  {
   "cell_type": "code",
   "execution_count": 1,
   "metadata": {},
   "outputs": [
    {
     "data": {
      "text/html": [
       "<style>.container{width:100% !important;}<>"
      ],
      "text/plain": [
       "<IPython.core.display.HTML object>"
      ]
     },
     "metadata": {},
     "output_type": "display_data"
    }
   ],
   "source": [
    "from IPython.core.display import display, HTML\n",
    "display(HTML(\"<style>.container{width:100% !important;}<>\"))\n",
    "\n",
    "import pandas as pd\n",
    "\n",
    "import numpy as np\n",
    "import sympy as sp\n",
    "from sympy.parsing.sympy_parser import parse_expr\n",
    "from sympy.solvers.solveset import linsolve\n",
    "\n",
    "from ipywidgets import widgets\n",
    "\n",
    "import matplotlib.pyplot as plt\n",
    "%matplotlib inline\n",
    "    \n",
    "try:\n",
    "    import plotly.graph_objects as go\n",
    "except:\n",
    "    !pip install plotly\n",
    "    import plotly.graph_objects as go\n",
    "    \n",
    "from resources.code import visual_interface as vi"
   ]
  },
  {
   "cell_type": "markdown",
   "metadata": {},
   "source": [
    "# Recursos adicionales:\n",
    "- Guía rápida de uso de sympy. https://claudiovz.github.io/scipy-lecture-notes-ES/packages/sympy.html\n",
    "- Documentación de numpy. Especialmente la parte relacionada con Algebra Lineal. https://numpy.org/doc/stable/contents.html\n",
    "\n",
    "# Parte I. Diagrama de Flujo explicando la solución al ejercicio\n",
    "\n",
    "Para el desarrollo del diagrama, pueden optar por desarrollarlo aquí https://www.diagrams.net. Para la entrega:\n",
    "- Pueden descargar el diagrama en formado pdf y anexarlo en la carpeta ./resources/pdfs\n",
    "- Descargarlo como una imágen y anexar la imágen aquí. Esta imágen se debe guardar en la ruta ./resources/images\n",
    "\n",
    "$\\mathbf{Nota:}$Tengan en cuenta que las normas de entrega (la ubicación de las imágenes, archivos de excel, y demás recursos usados en la práctica) cuentan como parte de la evaluación.\n",
    "\n",
    "<img src=\"./resources/images/image.png\">"
   ]
  },
  {
   "cell_type": "code",
   "execution_count": null,
   "metadata": {},
   "outputs": [],
   "source": []
  },
  {
   "cell_type": "code",
   "execution_count": null,
   "metadata": {},
   "outputs": [],
   "source": []
  },
  {
   "cell_type": "markdown",
   "metadata": {},
   "source": [
    "# Parte II. Deducción matemática de la EDO a partir de un diagrama de cuerpo libre.\n",
    "\n",
    "Para escribir ecuaciones en este entorno, pueden optar por hacerlo de dos formas:\n",
    "\n",
    "- Cómo texto en formato latex. Pueden utilizar el siguiente editor que les facilita la actividad. https://www.codecogs.com/latex/eqneditor.php\n",
    "- Cómo imágenes tomadas desde otro programa de edición de ecuaciones. Estas imágenes se debe guardar en la ruta ./resources/images\n",
    "\n",
    "$\\mathbf{Nota:}$Tengan en cuenta que las normas de entrega (la ubicación de las imágenes, archivos de excel, y demás recursos usados en la práctica) cuentan como parte de la evaluación.\n"
   ]
  },
  {
   "cell_type": "code",
   "execution_count": null,
   "metadata": {},
   "outputs": [],
   "source": []
  },
  {
   "cell_type": "markdown",
   "metadata": {},
   "source": [
    "# Parte III. Desarrollo de funciones que perimten obtener la solución homogenea a una EDO de orden superior.\n",
    "\n",
    "Para el desarrollo de estas funciones, utilice la plantilla que se suministra a continuación y tengan en cuenta los requisitos de cada función.\n",
    "Adicionalmente, tenga en cueneta las siguientes recomendaciones:\n",
    "- Tenga en cuenta que cuando necesiten multiplicar términos entre cadenas de caracteres y elementos de sympy, pueden usar la función parse_expr importada desde sympy. \n",
    "- Si necesitan pasar enteros a strings con el comando str(), si necesitan pasar elementos de sympy a strings con str() también lo pueden hacer.\n",
    "- La función $\\mathbf{sp.nsimplify(equation,tolerance=1e-6)}$ permite volver 0 aquellos valores que tengan como coeficiente un valor $\\leq1\\times10^{-6}$\n",
    "- El comando $\\mathbf{sp.lambdify(t,sympy_{expresion},'numpy')(numpy_{vector})}$ permite evaluar el elemento de sympy con los valores de numpy contenidos en numpy_vector\n",
    "- Utilice $e$ como $\\mathbf{exp()}$. (Ej. $e^{x}=\\mathbf{exp(x)}$)"
   ]
  },
  {
   "cell_type": "code",
   "execution_count": 19,
   "metadata": {},
   "outputs": [],
   "source": [
    "t = sp.symbols('t')\n",
    "\n",
    "def get_polynomial_roots(list_coeficents):\n",
    "    '''\n",
    "    Esta función recibe una lista con los coeficientes del polinomio al cuál se le va\n",
    "    a calcular las raíces. Retorna un diccionario donde cada llave corresponde a las \n",
    "    soluciones.\n",
    "    \n",
    "    - Las raíces se deben calcular con numpy. El comando np.root() les puede servir.\n",
    "    - La escritura de las soluciones se debe desarrollar usando cadenas de caracteres.\n",
    "    - No se necesita usar sympy.\n",
    "    '''\n",
    "    \n",
    "    dict_solutions = {}\n",
    "    \n",
    "    return(dict_solutions)\n",
    "\n",
    "def get_particular_solution(dict_solutions,str_rx):\n",
    "    '''\n",
    "    Esta función recibe un diccionario con la soluciones en formato cadena de caracteres\n",
    "    que estructuran el sistema de ecuaciones.\n",
    "    \n",
    "    - Para el desarrollo de esta función utilice los módulos de sympy suministrados\n",
    "    - Retorna un la solución particular como una cadena de caracteres. \n",
    "    '''\n",
    "\n",
    "    return(str_y_particular)\n",
    "\n",
    "def get_solution_to_integrate_coefficents(dict_solutions,str_particular_solution,list_conditions_str):\n",
    "    '''\n",
    "    Esta función recibe un diccionario con las soluciones en formato cadena de caracteres, \n",
    "    la solución particular como cadena de caracteres y las condiciones iniciales del problema como una lista de cadenas\n",
    "    de caracteres. \n",
    "    \n",
    "    - Las condiciones se deben ingresar como una lista de la siguiente manera: 'y(1)=1','Dy(1)=0','D2y(0)=1'\n",
    "    - Utilice los módulos de numpy para solucionar el problema.\n",
    "    - Retorne los coeficientes como un diccinario donde la llave es el identificador del coeficiente (ej.. 'c_1').\n",
    "    - Pueden utilizar los módulos de sympy que vean necesarios.\n",
    "    '''\n",
    "    \n",
    "    return(dict_coefficents)\n",
    "\n",
    "def get_derivate_solution(str_equation,int_derivate_order):\n",
    "    '''\n",
    "    Esta función recibe dos parámetros. La ecuación como una cadena de caracteres y el orden de la derivada.\n",
    "    Retorna la ecuación derivada como una cadena de caracteres.\n",
    "    '''\n",
    "\n",
    "    return(str_diff_equation)"
   ]
  },
  {
   "cell_type": "markdown",
   "metadata": {},
   "source": [
    "El llamado de la función debe ser:"
   ]
  },
  {
   "cell_type": "code",
   "execution_count": null,
   "metadata": {},
   "outputs": [],
   "source": [
    "list_coef_polynomial = [1,0,1]\n",
    "str_rx = 'exp(-t)'\n",
    "list_conditions_str = ['y(1)=1','Dy(1)=0']\n",
    "\n",
    "\n",
    "dict_solutions = get_polynomial_roots(list_coef_polynomial)\n",
    "str_particular_solution = get_particular_solution(dict_solutions,str_rx)\n",
    "dict_pvi_solution = get_solution_to_integrate_coefficents(dict_solutions,str_particular_solution,list_conditions_str)"
   ]
  },
  {
   "cell_type": "markdown",
   "metadata": {},
   "source": [
    "# Parte IV"
   ]
  },
  {
   "cell_type": "markdown",
   "metadata": {},
   "source": [
    "### Punto 1.\n",
    "$$L_n(D)x(t) = F(t)$$"
   ]
  },
  {
   "cell_type": "code",
   "execution_count": null,
   "metadata": {},
   "outputs": [],
   "source": []
  },
  {
   "cell_type": "markdown",
   "metadata": {},
   "source": [
    "### Punto 2.\n",
    "$$L_n(D)x(t) = F(t)$$"
   ]
  },
  {
   "cell_type": "code",
   "execution_count": null,
   "metadata": {},
   "outputs": [],
   "source": []
  },
  {
   "cell_type": "markdown",
   "metadata": {},
   "source": [
    "### Punto 3"
   ]
  },
  {
   "cell_type": "code",
   "execution_count": 1,
   "metadata": {
    "scrolled": true
   },
   "outputs": [
    {
     "name": "stdout",
     "output_type": "stream",
     "text": [
      "0\n",
      "1\n"
     ]
    }
   ],
   "source": [
    "for i in range(2):\n",
    "    print(i)"
   ]
  },
  {
   "cell_type": "markdown",
   "metadata": {},
   "source": [
    "# Parte V"
   ]
  },
  {
   "cell_type": "code",
   "execution_count": null,
   "metadata": {},
   "outputs": [],
   "source": [
    "df = pd.read_csv()"
   ]
  },
  {
   "cell_type": "markdown",
   "metadata": {},
   "source": [
    "# Parte VI"
   ]
  },
  {
   "cell_type": "markdown",
   "metadata": {},
   "source": [
    "$$(D^2+D+6)y(x)=x\\cdot\\sin(x)$$"
   ]
  },
  {
   "cell_type": "code",
   "execution_count": 2,
   "metadata": {},
   "outputs": [
    {
     "data": {
      "application/vnd.jupyter.widget-view+json": {
       "model_id": "67fa0f023a454a7ca204421be1daa873",
       "version_major": 2,
       "version_minor": 0
      },
      "text/plain": [
       "VBox(children=(HBox(children=(Label(value='$(aD^2+bD+c)y(x) = r(x)$'),)), HBox(children=(Text(value='y(0)=0', …"
      ]
     },
     "metadata": {},
     "output_type": "display_data"
    }
   ],
   "source": [
    "app = vi.get_app()\n",
    "app"
   ]
  }
 ],
 "metadata": {
  "kernelspec": {
   "display_name": "Python 3",
   "language": "python",
   "name": "python3"
  },
  "language_info": {
   "codemirror_mode": {
    "name": "ipython",
    "version": 3
   },
   "file_extension": ".py",
   "mimetype": "text/x-python",
   "name": "python",
   "nbconvert_exporter": "python",
   "pygments_lexer": "ipython3",
   "version": "3.7.1"
  }
 },
 "nbformat": 4,
 "nbformat_minor": 2
}
