{
 "cells": [
  {
   "cell_type": "code",
   "execution_count": 7,
   "metadata": {},
   "outputs": [
    {
     "data": {
      "text/html": [
       "<style>.container { width:95% !important; }</style>"
      ],
      "text/plain": [
       "<IPython.core.display.HTML object>"
      ]
     },
     "metadata": {},
     "output_type": "display_data"
    }
   ],
   "source": [
    "from IPython.core.display import display, HTML\n",
    "display(HTML(\"<style>.container { width:95% !important; }</style>\"))"
   ]
  },
  {
   "cell_type": "markdown",
   "metadata": {},
   "source": [
    "# Practica 2 (5%) - Manejo de sentencias"
   ]
  },
  {
   "cell_type": "code",
   "execution_count": 1,
   "metadata": {},
   "outputs": [],
   "source": [
    "import pandas as pd\n",
    "import numpy as np\n",
    "import os"
   ]
  },
  {
   "cell_type": "code",
   "execution_count": 2,
   "metadata": {},
   "outputs": [],
   "source": [
    "''' Este comando intenta cargar plotly. Si ocurre un error es porque \n",
    "    posiblemente el módulo no esté instalado. En ese caso,\n",
    "    el except lo instala automáticamente.\n",
    "'''\n",
    "try:\n",
    "    import plotly.graph_objects as go\n",
    "except:\n",
    "    !pip install plotly"
   ]
  },
  {
   "cell_type": "markdown",
   "metadata": {},
   "source": [
    "$$VSP = v\\cdot(a\\cdot(1+\\varepsilon)+g\\cdot \\mathbf{grade}+g\\cdot C_R)+\\frac{1}{2\\cdot m}\\rho_a \\cdot C_D \\cdot A\\cdot v^3$$\n",
    "\n",
    "Si se tiene una frecuencia de 10 Hz, quiere decir que los 10 primeros datos se adquirieron en 1 segundo.  lista[0:10] corresponde a los datos del primer segundo."
   ]
  },
  {
   "cell_type": "markdown",
   "metadata": {},
   "source": [
    "# Parte I"
   ]
  },
  {
   "cell_type": "code",
   "execution_count": 69,
   "metadata": {
    "scrolled": true
   },
   "outputs": [
    {
     "name": "stderr",
     "output_type": "stream",
     "text": [
      "100%|██████████| 5/5 [00:00<00:00,  7.77it/s]\n"
     ]
    }
   ],
   "source": [
    "import os\n",
    "from tqdm import tqdm\n",
    "\n",
    "# Definición de variables de entrada\n",
    "str_path = './data/'\n",
    "list_name_files = os.listdir(str_path)\n",
    "\n",
    "float_epsilon = 0.42\n",
    "float_cr = 6.5e-3\n",
    "float_cd = 0.75\n",
    "int_rho_air = 1\n",
    "int_area = 7\n",
    "int_mass = 9600 \n",
    "float_gravity = 9.81\n",
    "\n",
    "# Ciclo for que recorre uno a uno los archivos xlsx contenidos en la carpeta data\n",
    "for name_file in tqdm(list_name_files):\n",
    "    # Lectura del archivo xlsx\n",
    "    df_file = pd.read_excel(str_path+name_file)\n",
    "    \n",
    "    # Extracción de las variables del archivo xlsx\n",
    "    np_velocity = df_file.velocity.values\n",
    "    np_aceleration = df_file.aceleration.values\n",
    "    np_grade = df_file.road_grade.values\n",
    "    \n",
    "    # Cálculo de la VSP \n",
    "    np_vsp = np_velocity*(np_aceleration*(1+float_epsilon)+float_gravity*np_grade+float_gravity*float_cr)+(int_rho_air*float_cd*int_area*np_velocity**3)/(2*int_mass)\n",
    "    df_file['vsp'] = np_vsp\n",
    "    \n",
    "    #for int_time in range(3,31,3):\n",
    "        "
   ]
  },
  {
   "cell_type": "code",
   "execution_count": 70,
   "metadata": {},
   "outputs": [
    {
     "name": "stderr",
     "output_type": "stream",
     "text": [
      "100%|██████████| 1561/1561 [00:00<00:00, 38894.98it/s]\n"
     ]
    }
   ],
   "source": [
    "int_time = 3\n",
    "int_frequency = 2\n",
    "int_number_data = int_time*int_frequency # Ventana de datos\n",
    "\n",
    "np_vsp_avg = np.zeros(np_vsp.shape[0])\n",
    "\n",
    "for int_ix in tqdm(range(np_vsp.shape[0])):\n",
    "    \n",
    "    if int_ix<int_number_data:\n",
    "        np_vsp_avg[int_ix] = np_vsp[0:int_ix+1].mean()\n",
    "    else:\n",
    "        np_vsp_avg[int_ix] = np_vsp[int_ix-int_number_data+1:int_ix+1].mean()"
   ]
  },
  {
   "cell_type": "code",
   "execution_count": 43,
   "metadata": {},
   "outputs": [
    {
     "data": {
      "text/plain": [
       "array([ 0,  1,  2,  3,  4,  5,  6,  7,  8,  9, 10, 11, 12, 13, 14, 15, 16,\n",
       "       17, 18, 19, 20, 21, 22, 23, 24, 25, 26, 27, 28, 29, 30, 31, 32, 33,\n",
       "       34, 35, 36, 37, 38, 39, 40, 41, 42, 43, 44, 45, 46, 47, 48, 49, 50,\n",
       "       51, 52, 53, 54, 55, 56, 57, 58, 59, 60, 61, 62, 63, 64, 65, 66, 67,\n",
       "       68, 69, 70, 71, 72, 73, 74, 75, 76, 77, 78, 79, 80, 81, 82, 83, 84,\n",
       "       85, 86, 87, 88, 89, 90, 91, 92, 93, 94, 95, 96, 97, 98, 99])"
      ]
     },
     "execution_count": 43,
     "metadata": {},
     "output_type": "execute_result"
    }
   ],
   "source": [
    "vect_test = np.arange(100)\n",
    "vect_test"
   ]
  },
  {
   "cell_type": "code",
   "execution_count": 63,
   "metadata": {},
   "outputs": [
    {
     "data": {
      "text/plain": [
       "(array([3, 4, 5, 6, 7, 8]), 5.5)"
      ]
     },
     "execution_count": 63,
     "metadata": {},
     "output_type": "execute_result"
    }
   ],
   "source": [
    "ix = 8\n",
    "x0 = ix-6+1\n",
    "xf = ix+1\n",
    "vect_test[x0:xf],vect_test[x0:xf].mean()"
   ]
  },
  {
   "cell_type": "code",
   "execution_count": 53,
   "metadata": {},
   "outputs": [
    {
     "data": {
      "text/plain": [
       "array([0., 0., 0., 0., 0., 0., 0., 0.])"
      ]
     },
     "execution_count": 53,
     "metadata": {},
     "output_type": "execute_result"
    }
   ],
   "source": [
    "np_vsp_avg[0:8]"
   ]
  },
  {
   "cell_type": "markdown",
   "metadata": {},
   "source": [
    "# Parte II"
   ]
  }
 ],
 "metadata": {
  "kernelspec": {
   "display_name": "Python 3",
   "language": "python",
   "name": "python3"
  },
  "language_info": {
   "codemirror_mode": {
    "name": "ipython",
    "version": 3
   },
   "file_extension": ".py",
   "mimetype": "text/x-python",
   "name": "python",
   "nbconvert_exporter": "python",
   "pygments_lexer": "ipython3",
   "version": "3.7.1"
  }
 },
 "nbformat": 4,
 "nbformat_minor": 2
}
